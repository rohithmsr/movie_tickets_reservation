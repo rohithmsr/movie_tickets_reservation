{
  "nbformat": 4,
  "nbformat_minor": 0,
  "metadata": {
    "colab": {
      "name": "googlehashcode2021.ipynb",
      "provenance": [],
      "collapsed_sections": [],
      "toc_visible": true,
      "authorship_tag": "ABX9TyP4nzP07AcaTUQdO/Jh0V5+",
      "include_colab_link": true
    },
    "kernelspec": {
      "name": "python3",
      "display_name": "Python 3"
    }
  },
  "cells": [
    {
      "cell_type": "markdown",
      "metadata": {
        "id": "view-in-github",
        "colab_type": "text"
      },
      "source": [
        "<a href=\"https://colab.research.google.com/github/rohithmsr/movie_tickets_reservation/blob/markhenry/firsttry/googlehashcode2021.ipynb\" target=\"_parent\"><img src=\"https://colab.research.google.com/assets/colab-badge.svg\" alt=\"Open In Colab\"/></a>"
      ]
    },
    {
      "cell_type": "code",
      "metadata": {
        "colab": {
          "base_uri": "https://localhost:8080/"
        },
        "id": "ex1Zb6fkGaim",
        "outputId": "36cbff35-9afd-46a8-c2e9-3368319d1b78"
      },
      "source": [
        "f = open(\"demofile3.txt\", \"w\")\r\n",
        "f.write(\"Woops! I have deleted the content!\")\r\n",
        "f.close()\r\n",
        "\r\n",
        "#open and read the file after the appending:\r\n",
        "f = open(\"demofile3.txt\", \"r\")\r\n",
        "print(f.read())"
      ],
      "execution_count": 1,
      "outputs": [
        {
          "output_type": "stream",
          "text": [
            "Woops! I have deleted the content!\n"
          ],
          "name": "stdout"
        }
      ]
    },
    {
      "cell_type": "code",
      "metadata": {
        "colab": {
          "base_uri": "https://localhost:8080/"
        },
        "id": "5H4hI8KGGqvF",
        "outputId": "d3803f54-c5e8-4f0c-d162-21f0fc7ec417"
      },
      "source": [
        "f = open(\"a.txt\", \"r\")\r\n",
        "D, I, St, C, score = [int(i) for i in f.readline().split()]\r\n",
        "\r\n",
        "streets = []\r\n",
        "carpaths = []\r\n",
        "distances = {}\r\n",
        "\r\n",
        "for i in range(St):\r\n",
        "  li = f.readline().split()\r\n",
        "  streets.append(li)\r\n",
        "  distances[li[2]] = int(li[3])\r\n",
        "\r\n",
        "for i in range(C):\r\n",
        "  li = f.readline().split()\r\n",
        "\r\n",
        "  intt = 0\r\n",
        "  for i in li[2:]:\r\n",
        "    intt += distances[i]\r\n",
        "\r\n",
        "  li.insert(0, intt)\r\n",
        "  carpaths.append(li)\r\n",
        "  \r\n",
        "carpaths.sort(key = lambda x: x[0])\r\n",
        "\r\n",
        "print('STREETS: ',streets)\r\n",
        "print('CARPATHS WITH DISTANCE AT FIRST POSITION: ',carpaths)\r\n",
        "print('LENGTH OF EACH STREET: ',distances)\r\n",
        "f.close()\r\n",
        "\r\n"
      ],
      "execution_count": 19,
      "outputs": [
        {
          "output_type": "stream",
          "text": [
            "STREETS:  [['2', '0', 'rue-de-londres', '1'], ['0', '1', 'rue-d-amsterdam', '1'], ['3', '1', 'rue-d-athenes', '1'], ['2', '3', 'rue-de-rome', '2'], ['1', '2', 'rue-de-moscou', '3']]\n",
            "CARPATHS WITH DISTANCE AT FIRST POSITION:  [[4, '3', 'rue-d-athenes', 'rue-de-moscou', 'rue-de-londres'], [6, '4', 'rue-de-londres', 'rue-d-amsterdam', 'rue-de-moscou', 'rue-de-rome']]\n",
            "LENGTH OF EACH STREET:  {'rue-de-londres': 1, 'rue-d-amsterdam': 1, 'rue-d-athenes': 1, 'rue-de-rome': 2, 'rue-de-moscou': 3}\n"
          ],
          "name": "stdout"
        }
      ]
    },
    {
      "cell_type": "code",
      "metadata": {
        "id": "9i4FHGepGq33"
      },
      "source": [
        "simulation, intersection, streets, cars, score"
      ],
      "execution_count": null,
      "outputs": []
    },
    {
      "cell_type": "code",
      "metadata": {
        "colab": {
          "base_uri": "https://localhost:8080/"
        },
        "id": "bNC4dRzZGq6h",
        "outputId": "8a70c079-19b7-4324-81d0-826fdce4a5d4"
      },
      "source": [
        "carpaths"
      ],
      "execution_count": 20,
      "outputs": [
        {
          "output_type": "execute_result",
          "data": {
            "text/plain": [
              "[[4, '3', 'rue-d-athenes', 'rue-de-moscou', 'rue-de-londres'],\n",
              " [6, '4', 'rue-de-londres', 'rue-d-amsterdam', 'rue-de-moscou', 'rue-de-rome']]"
            ]
          },
          "metadata": {
            "tags": []
          },
          "execution_count": 20
        }
      ]
    },
    {
      "cell_type": "code",
      "metadata": {
        "id": "Q4cVYYNrGq9Q"
      },
      "source": [
        ""
      ],
      "execution_count": null,
      "outputs": []
    },
    {
      "cell_type": "code",
      "metadata": {
        "id": "Kmdy7UEVGq_8"
      },
      "source": [
        ""
      ],
      "execution_count": null,
      "outputs": []
    },
    {
      "cell_type": "code",
      "metadata": {
        "id": "ASHJ5dI6GrCm"
      },
      "source": [
        ""
      ],
      "execution_count": null,
      "outputs": []
    },
    {
      "cell_type": "code",
      "metadata": {
        "id": "EbIKYPz2GrGD"
      },
      "source": [
        ""
      ],
      "execution_count": null,
      "outputs": []
    }
  ]
}